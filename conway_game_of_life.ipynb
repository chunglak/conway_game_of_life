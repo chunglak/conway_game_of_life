{
 "cells": [
  {
   "cell_type": "code",
   "execution_count": 1,
   "metadata": {},
   "outputs": [
    {
     "data": {
      "text/plain": [
       "array([[False, False, False, False, False, False],\n",
       "       [False, False, False, False, False, False],\n",
       "       [False, False, False, False, False, False],\n",
       "       [False, False, False, False, False, False],\n",
       "       [False, False, False, False, False, False]])"
      ]
     },
     "execution_count": 1,
     "metadata": {},
     "output_type": "execute_result"
    }
   ],
   "source": [
    "import numpy as np\n",
    "\n",
    "def make_grid(Y,X):\n",
    "    return np.zeros((Y,X),dtype=bool)\n",
    "\n",
    "grid=make_grid(5,6)\n",
    "grid"
   ]
  },
  {
   "cell_type": "code",
   "execution_count": null,
   "metadata": {},
   "outputs": [],
   "source": []
  },
  {
   "cell_type": "code",
   "execution_count": 2,
   "metadata": {},
   "outputs": [
    {
     "data": {
      "text/plain": [
       "array([[False,  True, False, False, False,  True],\n",
       "       [ True, False,  True,  True,  True, False],\n",
       "       [ True, False,  True,  True, False,  True],\n",
       "       [False, False,  True,  True,  True,  True],\n",
       "       [False, False, False,  True, False, False]])"
      ]
     },
     "execution_count": 2,
     "metadata": {},
     "output_type": "execute_result"
    }
   ],
   "source": [
    "def set_on_random_cells(grid, n):\n",
    "    import random\n",
    "\n",
    "    _grid = grid.reshape((-1,))\n",
    "    _grid[np.random.choice(_grid.size, n, replace=False)] = True\n",
    "    return _grid.reshape(grid.shape)\n",
    "\n",
    "grid = set_on_random_cells(grid, 15)\n",
    "grid"
   ]
  },
  {
   "cell_type": "code",
   "execution_count": 3,
   "metadata": {
    "scrolled": true
   },
   "outputs": [
    {
     "name": "stdout",
     "output_type": "stream",
     "text": [
      "□■□□□■\n",
      "■□■■■□\n",
      "■□■■□■\n",
      "□□■■■■\n",
      "□□□■□□\n"
     ]
    }
   ],
   "source": [
    "def display_grid(grid):\n",
    "    return '\\n'.join(''.join('■' if c else '□' for c in row) for row in grid)\n",
    "\n",
    "print(display_grid(grid))"
   ]
  },
  {
   "cell_type": "code",
   "execution_count": null,
   "metadata": {},
   "outputs": [],
   "source": [
    "def calc_grid(grid):\n",
    "    def nb_neighbors(y, x):\n",
    "        nn = 0\n",
    "        for dx in (-1, 0, 1):\n",
    "            for dy in (-1, 0, 1):\n",
    "                if dx == dy == 0:\n",
    "                    continue\n",
    "                xp, yp = x + dx, y + dy\n",
    "                if xp >= 0 and yp >= 0 and xp < X and yp < Y and grid[yp, xp]:\n",
    "                    nn += 1\n",
    "        return nn\n",
    "\n",
    "    Y, X = grid.shape\n",
    "    new_grid = make_grid(Y, X)\n",
    "    for y in range(Y):\n",
    "        for x in range(X):\n",
    "            nbn = nb_neighbors(y, x)\n",
    "            v = grid[y, x]\n",
    "            if v:\n",
    "                new_grid[y, x] = 2 <= nbn <= 3\n",
    "            elif nbn == 3:\n",
    "                new_grid[y, x] = True\n",
    "    return new_grid"
   ]
  },
  {
   "cell_type": "code",
   "execution_count": 26,
   "metadata": {},
   "outputs": [
    {
     "name": "stdout",
     "output_type": "stream",
     "text": [
      "□□□□□□\n",
      "□□□□□□\n",
      "□□□□□□\n",
      "□□□□□□\n",
      "□□□□□□\n"
     ]
    }
   ],
   "source": [
    "grid = calc_grid(grid)\n",
    "print(display_grid(grid))"
   ]
  },
  {
   "cell_type": "code",
   "execution_count": null,
   "metadata": {},
   "outputs": [],
   "source": []
  }
 ],
 "metadata": {
  "kernelspec": {
   "display_name": "stem",
   "language": "python",
   "name": "stem"
  },
  "language_info": {
   "codemirror_mode": {
    "name": "ipython",
    "version": 3
   },
   "file_extension": ".py",
   "mimetype": "text/x-python",
   "name": "python",
   "nbconvert_exporter": "python",
   "pygments_lexer": "ipython3",
   "version": "3.8.2"
  }
 },
 "nbformat": 4,
 "nbformat_minor": 4
}
